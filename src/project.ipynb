{
 "cells": [
  {
   "cell_type": "code",
   "execution_count": 178,
   "id": "initial_id",
   "metadata": {
    "ExecuteTime": {
     "end_time": "2024-12-04T03:15:16.467474Z",
     "start_time": "2024-12-04T03:15:16.464857Z"
    },
    "collapsed": true
   },
   "outputs": [],
   "source": [
    "# from twisted.conch.scripts.tkconch import frame\n",
    "from ucimlrepo import fetch_ucirepo \n",
    "import ssl\n",
    "\n",
    "import pandas as pd\n",
    "import matplotlib.pyplot as plt\n",
    "import seaborn as sns\n",
    "import numpy as np"
   ]
  },
  {
   "cell_type": "code",
   "execution_count": 179,
   "id": "99cb3a97",
   "metadata": {},
   "outputs": [],
   "source": [
    "# giving an SSLCertVerificationError when trying to fetch UCI repo\n",
    "ssl._create_default_https_context = ssl._create_unverified_context"
   ]
  },
  {
   "cell_type": "markdown",
   "id": "185308e5",
   "metadata": {},
   "source": [
    "# Data Preprocessing\n",
    "For milestone 2, we are completing all data preprocessing operations including fetching the data, dropping unnecessary columns, encoding categorical data and normalizing continous columns. Finally, we will be splitting the data into train, test and validation sets using a 80/20 split between test and training data, and 80/20 split between split training data and a validation set (because the data set is so large we can afford to do this)."
   ]
  },
  {
   "cell_type": "code",
   "execution_count": 180,
   "id": "797b9a8dc486d133",
   "metadata": {
    "ExecuteTime": {
     "end_time": "2024-12-04T03:15:19.353072Z",
     "start_time": "2024-12-04T03:15:16.477593Z"
    }
   },
   "outputs": [
    {
     "name": "stdout",
     "output_type": "stream",
     "text": [
      "before drop missing values:  (48842, 14)\n",
      "after drop missing values:  (47621, 14)\n"
     ]
    }
   ],
   "source": [
    "# fetch dataset \n",
    "adult = fetch_ucirepo(id=2) \n",
    "  \n",
    "features = pd.DataFrame(adult.data.features)\n",
    "target = pd.DataFrame(adult.data.targets)\n",
    "\n",
    "\n",
    "#drop the education column as it is already represented in the education_num column\n",
    "features = features.drop(columns=['education'])\n",
    "data = pd.concat([features, target], axis=1)\n",
    "\n",
    "print(\"before drop missing values: \", data.shape)\n",
    "# drop missing values\n",
    "data = data.dropna()\n",
    "\n",
    "print(\"after drop missing values: \", data.shape)\n"
   ]
  },
  {
   "cell_type": "code",
   "execution_count": 181,
   "id": "95b7681869b288be",
   "metadata": {
    "ExecuteTime": {
     "end_time": "2024-12-04T03:15:19.386132Z",
     "start_time": "2024-12-04T03:15:19.372890Z"
    }
   },
   "outputs": [],
   "source": [
    "before = {'workclass': data['workclass'].unique(),\n",
    "          'marital-status': data['marital-status'].unique(),\n",
    "          'occupation': data['occupation'].unique(),\n",
    "          'relationship': data['relationship'].unique(),\n",
    "          'race': data['race'].unique(),\n",
    "          'native-country': data['native-country'].unique(),\n",
    "          'income': data['income'].unique()\n",
    "          }"
   ]
  },
  {
   "cell_type": "markdown",
   "id": "a6cdcb59f2bfb6b3",
   "metadata": {},
   "source": [
    "## Categorical Data Preprocessing\n",
    "using LabelEncoder to convert categorical data to numerical data"
   ]
  },
  {
   "cell_type": "code",
   "execution_count": 182,
   "id": "9d3ed6bd5c223b39",
   "metadata": {
    "ExecuteTime": {
     "end_time": "2024-12-04T03:15:19.459249Z",
     "start_time": "2024-12-04T03:15:19.429402Z"
    }
   },
   "outputs": [
    {
     "data": {
      "text/html": [
       "<div>\n",
       "<style scoped>\n",
       "    .dataframe tbody tr th:only-of-type {\n",
       "        vertical-align: middle;\n",
       "    }\n",
       "\n",
       "    .dataframe tbody tr th {\n",
       "        vertical-align: top;\n",
       "    }\n",
       "\n",
       "    .dataframe thead th {\n",
       "        text-align: right;\n",
       "    }\n",
       "</style>\n",
       "<table border=\"1\" class=\"dataframe\">\n",
       "  <thead>\n",
       "    <tr style=\"text-align: right;\">\n",
       "      <th></th>\n",
       "      <th>age</th>\n",
       "      <th>workclass</th>\n",
       "      <th>fnlwgt</th>\n",
       "      <th>education-num</th>\n",
       "      <th>marital-status</th>\n",
       "      <th>occupation</th>\n",
       "      <th>relationship</th>\n",
       "      <th>race</th>\n",
       "      <th>sex</th>\n",
       "      <th>capital-gain</th>\n",
       "      <th>capital-loss</th>\n",
       "      <th>hours-per-week</th>\n",
       "      <th>native-country</th>\n",
       "      <th>income</th>\n",
       "    </tr>\n",
       "  </thead>\n",
       "  <tbody>\n",
       "    <tr>\n",
       "      <th>0</th>\n",
       "      <td>39</td>\n",
       "      <td>7</td>\n",
       "      <td>77516</td>\n",
       "      <td>13</td>\n",
       "      <td>4</td>\n",
       "      <td>1</td>\n",
       "      <td>1</td>\n",
       "      <td>4</td>\n",
       "      <td>Male</td>\n",
       "      <td>2174</td>\n",
       "      <td>0</td>\n",
       "      <td>40</td>\n",
       "      <td>39</td>\n",
       "      <td>&lt;=50K</td>\n",
       "    </tr>\n",
       "    <tr>\n",
       "      <th>1</th>\n",
       "      <td>50</td>\n",
       "      <td>6</td>\n",
       "      <td>83311</td>\n",
       "      <td>13</td>\n",
       "      <td>2</td>\n",
       "      <td>4</td>\n",
       "      <td>0</td>\n",
       "      <td>4</td>\n",
       "      <td>Male</td>\n",
       "      <td>0</td>\n",
       "      <td>0</td>\n",
       "      <td>13</td>\n",
       "      <td>39</td>\n",
       "      <td>&lt;=50K</td>\n",
       "    </tr>\n",
       "    <tr>\n",
       "      <th>2</th>\n",
       "      <td>38</td>\n",
       "      <td>4</td>\n",
       "      <td>215646</td>\n",
       "      <td>9</td>\n",
       "      <td>0</td>\n",
       "      <td>6</td>\n",
       "      <td>1</td>\n",
       "      <td>4</td>\n",
       "      <td>Male</td>\n",
       "      <td>0</td>\n",
       "      <td>0</td>\n",
       "      <td>40</td>\n",
       "      <td>39</td>\n",
       "      <td>&lt;=50K</td>\n",
       "    </tr>\n",
       "    <tr>\n",
       "      <th>3</th>\n",
       "      <td>53</td>\n",
       "      <td>4</td>\n",
       "      <td>234721</td>\n",
       "      <td>7</td>\n",
       "      <td>2</td>\n",
       "      <td>6</td>\n",
       "      <td>0</td>\n",
       "      <td>2</td>\n",
       "      <td>Male</td>\n",
       "      <td>0</td>\n",
       "      <td>0</td>\n",
       "      <td>40</td>\n",
       "      <td>39</td>\n",
       "      <td>&lt;=50K</td>\n",
       "    </tr>\n",
       "    <tr>\n",
       "      <th>4</th>\n",
       "      <td>28</td>\n",
       "      <td>4</td>\n",
       "      <td>338409</td>\n",
       "      <td>13</td>\n",
       "      <td>2</td>\n",
       "      <td>10</td>\n",
       "      <td>5</td>\n",
       "      <td>2</td>\n",
       "      <td>Female</td>\n",
       "      <td>0</td>\n",
       "      <td>0</td>\n",
       "      <td>40</td>\n",
       "      <td>5</td>\n",
       "      <td>&lt;=50K</td>\n",
       "    </tr>\n",
       "  </tbody>\n",
       "</table>\n",
       "</div>"
      ],
      "text/plain": [
       "   age  workclass  fnlwgt  education-num  marital-status  occupation  \\\n",
       "0   39          7   77516             13               4           1   \n",
       "1   50          6   83311             13               2           4   \n",
       "2   38          4  215646              9               0           6   \n",
       "3   53          4  234721              7               2           6   \n",
       "4   28          4  338409             13               2          10   \n",
       "\n",
       "   relationship  race     sex  capital-gain  capital-loss  hours-per-week  \\\n",
       "0             1     4    Male          2174             0              40   \n",
       "1             0     4    Male             0             0              13   \n",
       "2             1     4    Male             0             0              40   \n",
       "3             0     2    Male             0             0              40   \n",
       "4             5     2  Female             0             0              40   \n",
       "\n",
       "   native-country income  \n",
       "0              39  <=50K  \n",
       "1              39  <=50K  \n",
       "2              39  <=50K  \n",
       "3              39  <=50K  \n",
       "4               5  <=50K  "
      ]
     },
     "execution_count": 182,
     "metadata": {},
     "output_type": "execute_result"
    }
   ],
   "source": [
    "cate_colname = ['workclass', 'marital-status', 'occupation', 'relationship', 'native-country','race']\n",
    "\n",
    "from sklearn.preprocessing import LabelEncoder\n",
    "\n",
    "labelEncoder = LabelEncoder()\n",
    "\n",
    "for i in cate_colname:\n",
    "    data[i] = labelEncoder.fit_transform(data[i])\n",
    "data.head()\n"
   ]
  },
  {
   "cell_type": "code",
   "execution_count": 183,
   "id": "9291018eb0da06f5",
   "metadata": {
    "ExecuteTime": {
     "end_time": "2024-12-04T03:15:19.500987Z",
     "start_time": "2024-12-04T03:15:19.495229Z"
    }
   },
   "outputs": [],
   "source": [
    "after = {'workclass': data['workclass'].unique(),\n",
    "          'marital-status': data['marital-status'].unique(),\n",
    "          'occupation': data['occupation'].unique(),\n",
    "          'relationship': data['relationship'].unique(),\n",
    "          'race': data['race'].unique(),\n",
    "          'native-country': data['native-country'].unique(),\n",
    "          'income': data['income'].unique()\n",
    "          }"
   ]
  },
  {
   "cell_type": "code",
   "execution_count": 184,
   "id": "5df4b409366b454f",
   "metadata": {
    "ExecuteTime": {
     "end_time": "2024-12-04T03:15:19.529682Z",
     "start_time": "2024-12-04T03:15:19.526619Z"
    }
   },
   "outputs": [
    {
     "name": "stdout",
     "output_type": "stream",
     "text": [
      "col_name: workclass before: 9 after: 9\n",
      "col_name: marital-status before: 7 after: 7\n",
      "col_name: occupation before: 15 after: 15\n",
      "col_name: relationship before: 6 after: 6\n",
      "col_name: race before: 5 after: 5\n",
      "col_name: native-country before: 42 after: 42\n",
      "col_name: income before: 4 after: 4\n"
     ]
    }
   ],
   "source": [
    "# check before and after by comparing the unique values\n",
    "for i in before.keys():\n",
    "    print(f\"col_name: {i} before: {len(before[i])} after: {len(after[i])}\")"
   ]
  },
  {
   "cell_type": "markdown",
   "id": "fa3c7f84f38b95c1",
   "metadata": {},
   "source": [
    "## Handling binary data\n",
    "\n",
    "male is 0 \n",
    "female is 1\n",
    "\n",
    "income less then 50k is 0\n",
    "income greater then 50k is 1"
   ]
  },
  {
   "cell_type": "code",
   "execution_count": 185,
   "id": "a78f280e58fb62e0",
   "metadata": {
    "ExecuteTime": {
     "end_time": "2024-12-04T03:15:19.586514Z",
     "start_time": "2024-12-04T03:15:19.559687Z"
    }
   },
   "outputs": [
    {
     "name": "stderr",
     "output_type": "stream",
     "text": [
      "/var/folders/45/b_y3zsxs1g35byl6x6d4f9hw0000gn/T/ipykernel_18871/1168086075.py:14: FutureWarning: Downcasting behavior in `replace` is deprecated and will be removed in a future version. To retain the old behavior, explicitly call `result.infer_objects(copy=False)`. To opt-in to the future behavior, set `pd.set_option('future.no_silent_downcasting', True)`\n",
      "  data['sex'] = data['sex'].replace(sex_map)\n",
      "/var/folders/45/b_y3zsxs1g35byl6x6d4f9hw0000gn/T/ipykernel_18871/1168086075.py:15: FutureWarning: Downcasting behavior in `replace` is deprecated and will be removed in a future version. To retain the old behavior, explicitly call `result.infer_objects(copy=False)`. To opt-in to the future behavior, set `pd.set_option('future.no_silent_downcasting', True)`\n",
      "  data['income'] = data['income'].replace(income_map)\n"
     ]
    }
   ],
   "source": [
    "sex_map = {\n",
    "    'Male': 0,\n",
    "    'Female': 1\n",
    "}\n",
    "\n",
    "income_map = {\n",
    "    '<=50K': 0,\n",
    "    '>50K': 1,\n",
    "    '<=50K.': 0,\n",
    "    '>50K.': 1\n",
    "}\n",
    "\n",
    "# replace the values in the column\n",
    "data['sex'] = data['sex'].replace(sex_map)\n",
    "data['income'] = data['income'].replace(income_map)\n"
   ]
  },
  {
   "cell_type": "code",
   "execution_count": 186,
   "id": "8e7d7712fa7cd030",
   "metadata": {
    "ExecuteTime": {
     "end_time": "2024-12-04T03:15:19.613641Z",
     "start_time": "2024-12-04T03:15:19.605118Z"
    }
   },
   "outputs": [],
   "source": [
    "continues_colname = ['age', 'fnlwgt', 'capital-gain', 'capital-loss', 'hours-per-week']\n",
    "\n",
    "from sklearn.preprocessing import StandardScaler\n",
    "\n",
    "#normalize the continues data\n",
    "scaler = StandardScaler()\n",
    "data[continues_colname] = scaler.fit_transform(data[continues_colname])"
   ]
  },
  {
   "cell_type": "markdown",
   "id": "d8299c34",
   "metadata": {},
   "source": [
    "## Splitting Data"
   ]
  },
  {
   "cell_type": "code",
   "execution_count": 187,
   "id": "1d91c1e4a206fa9c",
   "metadata": {
    "ExecuteTime": {
     "end_time": "2024-12-04T03:15:19.644629Z",
     "start_time": "2024-12-04T03:15:19.634968Z"
    }
   },
   "outputs": [],
   "source": [
    "#split the data into training and testing data\n",
    "from sklearn.model_selection import train_test_split\n",
    "\n",
    "X = data.drop(columns=['income'])\n",
    "y = data['income']\n",
    "\n",
    "X_train, X_test, y_train, y_test = train_test_split(X, y, test_size=0.2, random_state=42)\n",
    "\n"
   ]
  },
  {
   "cell_type": "code",
   "execution_count": 188,
   "id": "26d517e34ae490b2",
   "metadata": {
    "ExecuteTime": {
     "end_time": "2024-12-04T03:15:19.971384Z",
     "start_time": "2024-12-04T03:15:19.709835Z"
    }
   },
   "outputs": [],
   "source": [
    "import sys\n",
    "from pathlib import Path\n",
    "\n",
    "# Add the src directory to the system path\n",
    "src_path = Path('./src')  # Path to the src directory relative to your notebook\n",
    "sys.path.append(str(src_path.resolve()))"
   ]
  },
  {
   "cell_type": "code",
   "execution_count": 189,
   "id": "25eed7a6",
   "metadata": {},
   "outputs": [
    {
     "name": "stdout",
     "output_type": "stream",
     "text": [
      "31937\n"
     ]
    }
   ],
   "source": [
    "print((X['sex'] == 0).sum())"
   ]
  },
  {
   "cell_type": "code",
   "execution_count": 190,
   "id": "3ad64345",
   "metadata": {},
   "outputs": [
    {
     "name": "stdout",
     "output_type": "stream",
     "text": [
      "Training SVM...\n",
      "Epoch 0: Train Loss = 30.2252, Val Loss = 7.5583\n",
      "Epoch 10: Train Loss = 27.7192, Val Loss = 6.9419\n",
      "Epoch 20: Train Loss = 25.2134, Val Loss = 6.3255\n",
      "Epoch 30: Train Loss = 22.7075, Val Loss = 5.7090\n",
      "Epoch 40: Train Loss = 20.2016, Val Loss = 5.0926\n",
      "Epoch 50: Train Loss = 17.6957, Val Loss = 4.4762\n",
      "Epoch 60: Train Loss = 15.1898, Val Loss = 3.8598\n",
      "Epoch 70: Train Loss = 14.6460, Val Loss = 3.7260\n",
      "Epoch 80: Train Loss = 14.6460, Val Loss = 3.7260\n",
      "Epoch 90: Train Loss = 14.6460, Val Loss = 3.7260\n",
      "Epoch 99: Train Loss = 14.6460, Val Loss = 3.7260\n"
     ]
    },
    {
     "data": {
      "image/png": "[encoded data removed]",
      "text/plain": [
       "<Figure size 640x480 with 1 Axes>"
      ]
     },
     "metadata": {},
     "output_type": "display_data"
    },
    {
     "name": "stdout",
     "output_type": "stream",
     "text": [
      "Training complete.\n"
     ]
    }
   ],
   "source": [
    "from model import svm\n",
    "import importlib\n",
    "importlib.reload(svm)\n",
    "\n",
    "from model.svm import svm_\n",
    "\n",
    "C = 0.001\n",
    "learning_rate = 0.001\n",
    "epoch = 100\n",
    "\n",
    "my_svm = svm_(learning_rate=learning_rate,epoch=epoch,C_value=C,X=X_train,Y=y_train)\n",
    "# X_train = X_train.to_numpy()\n",
    "# y_train = y_train.to_numpy().reshape(-1, 1)\n",
    "\n",
    "# train model\n",
    "# ensuring y is in the set {-1, 1}\n",
    "y_train_preprocessed = 2 * y_train -1\n",
    "print(\"Training SVM...\")\n",
    "training_losses, validation_losses = my_svm.train(X_train, y_train_preprocessed)\n",
    "print(\"Training complete.\")"
   ]
  },
  {
   "cell_type": "code",
   "execution_count": 191,
   "id": "8ea51a87",
   "metadata": {},
   "outputs": [
    {
     "name": "stdout",
     "output_type": "stream",
     "text": [
      "Evaluating SVM...\n",
      "Accuracy on test dataset: 0.752755905511811\n"
     ]
    }
   ],
   "source": [
    "# testing the model\n",
    "print(\"Evaluating SVM...\")\n",
    "y_test_preprocessed = 2 * y_test -1\n",
    "y_pred = my_svm.evaluate(X_test,y_test_preprocessed)\n"
   ]
  },
  {
   "cell_type": "code",
   "execution_count": 212,
   "id": "28fe2de35bb58612",
   "metadata": {
    "ExecuteTime": {
     "end_time": "2024-12-04T03:16:10.247863Z",
     "start_time": "2024-12-04T03:16:09.953989Z"
    }
   },
   "outputs": [
    {
     "name": "stdout",
     "output_type": "stream",
     "text": [
      "Training Logistic Regression Model\n",
      "Epoch: 1: train Loss: 0.6931471805599467, Validation Loss: 0.6931471805599467\n",
      "Epoch: 101: train Loss: 0.5466174898230871, Validation Loss: 0.5512382346414255\n",
      "Epoch: 201: train Loss: 0.535809586485702, Validation Loss: 0.5407940523161305\n",
      "Epoch: 301: train Loss: 0.5266274385752403, Validation Loss: 0.5319378376888003\n",
      "Epoch: 401: train Loss: 0.5186941613280657, Validation Loss: 0.5242967355492428\n",
      "Epoch: 501: train Loss: 0.5117497634065379, Validation Loss: 0.5176151322356476\n",
      "Epoch: 601: train Loss: 0.505608535298446, Validation Loss: 0.5117114062871817\n",
      "Epoch: 701: train Loss: 0.5001331207163392, Validation Loss: 0.5064517786332857\n",
      "Epoch: 801: train Loss: 0.4952186922013235, Validation Loss: 0.5017344584840907\n",
      "Epoch: 901: train Loss: 0.4907830954837476, Validation Loss: 0.49747983511924126\n",
      "Epoch: 1001: train Loss: 0.4867605255986569, Validation Loss: 0.49362422503193026\n",
      "Epoch: 1101: train Loss: 0.48309732905163105, Validation Loss: 0.4901157456438012\n",
      "Epoch: 1201: train Loss: 0.4797491201769875, Validation Loss: 0.4869114950670565\n",
      "Epoch: 1301: train Loss: 0.47667873583896236, Validation Loss: 0.4839755598571863\n",
      "Epoch: 1401: train Loss: 0.4738547429877066, Validation Loss: 0.48127756572643565\n",
      "Train end\n"
     ]
    },
    {
     "data": {
      "image/png": "[encoded data removed]",
      "text/plain": [
       "<Figure size 640x480 with 1 Axes>"
      ]
     },
     "metadata": {},
     "output_type": "display_data"
    }
   ],
   "source": [
    "# Logistic Regression with Regularization\n",
    "from model import LogisticRegression\n",
    "import importlib\n",
    "importlib.reload(LogisticRegression)\n",
    "\n",
    "from model.LogisticRegression import LogisticRegression_\n",
    "\n",
    "\n",
    "lr_learning_rate = 0.001\n",
    "lr_epoch = 1500\n",
    "c = 0.001\n",
    "\n",
    "lr = LogisticRegression_(c,lr_learning_rate, lr_epoch, X_train, y_train)\n",
    "\n",
    "print(\"Training Logistic Regression Model\")\n",
    "lr.train()"
   ]
  },
  {
   "cell_type": "code",
   "execution_count": 213,
   "id": "3f448b98870ece5a",
   "metadata": {},
   "outputs": [
    {
     "name": "stdout",
     "output_type": "stream",
     "text": [
      "Evaluating LogisticRegression ...\n",
      "Accuracy: 0.7562204724409449\n"
     ]
    }
   ],
   "source": [
    "print(\"Evaluating LogisticRegression ...\")\n",
    "y_pred = lr.evaluate(X_test, y_test)"
   ]
  },
  {
   "cell_type": "markdown",
   "id": "f3147f4c",
   "metadata": {},
   "source": [
    "## Bias Fairness Strategy\n",
    "Here we measure the bias within sex and race (two sensitive columns)"
   ]
  },
  {
   "cell_type": "code",
   "execution_count": null,
   "id": "4432675a",
   "metadata": {},
   "outputs": [
    {
     "name": "stdout",
     "output_type": "stream",
     "text": [
      "Male TPR: 0.10324189526184539\n",
      "Male FPR: 0.029378273741744478\n"
     ]
    }
   ],
   "source": [
    "from sklearn.metrics import confusion_matrix\n",
    "\n",
    "X_test = X_test.reset_index(drop=True)\n",
    "y_test = y_test.reset_index(drop=True)\n",
    "y_pred = pd.Series(y_pred).reset_index(drop=True)\n",
    "\n",
    "male_mask = X_test['sex'] == 0\n",
    "female_mask = X_test['sex'] == 1\n",
    "\n",
    "y_test_male = y_test[male_mask]\n",
    "y_pred_male = y_pred[male_mask]\n",
    "\n",
    "cm = confusion_matrix(y_test_male, y_pred_male)\n",
    "\n",
    "tn, fp, fn, tp = cm.ravel()\n",
    "\n",
    "male_tpr = tp / (tp + fn) if (tp + fn) > 0 else 0\n",
    "male_fpr = fp / (fp + tn) if (fp + tn) > 0 else 0 \n",
    "print(\"Male TPR:\", male_tpr)\n",
    "print(\"Male FPR:\", male_fpr)\n"
   ]
  },
  {
   "cell_type": "code",
   "execution_count": 215,
   "id": "711376d1",
   "metadata": {},
   "outputs": [
    {
     "name": "stdout",
     "output_type": "stream",
     "text": [
      "Race Amer-Indian-Eskimo: TPR = 0.09\n",
      "Race Asian-Pac-Islander: TPR = 0.05\n",
      "Race White: TPR = 0.36\n",
      "Race Black: TPR = 0.00\n",
      "Race Other: TPR = 0.17\n"
     ]
    }
   ],
   "source": [
    "def measure_race_bias(y_pred, y_test, X_test):\n",
    "    unique_races = X_test['race'].unique()\n",
    "\n",
    "    race_map = {\n",
    "        1: 'White',\n",
    "        0: 'Black',\n",
    "        4: 'Amer-Indian-Eskimo',\n",
    "        2: 'Asian-Pac-Islander',\n",
    "        3: 'Other'\n",
    "    }\n",
    "\n",
    "    for race in unique_races:\n",
    "        race_mask = X_test['race'] == race\n",
    "        \n",
    "        y_test_race = y_test[race_mask]\n",
    "        y_pred_race = y_pred[race_mask]\n",
    "        \n",
    "        cm = confusion_matrix(y_test_race, y_pred_race)\n",
    "        \n",
    "        tn, fp, fn, tp = cm.ravel()\n",
    "        \n",
    "        tpr = tp / (tp + fn) if (tp + fn) > 0 else 0 \n",
    "        print(f\"Race {race_map[race]}: TPR = {tpr:.2f}\")\n",
    "\n",
    "measure_race_bias(y_pred, y_test, X_test)"
   ]
  },
  {
   "cell_type": "markdown",
   "id": "0ddd289b",
   "metadata": {},
   "source": [
    "### Implementing bias mitigation strategy\n",
    "We then want to implement a bias mitigation strategy for race, where we use class balancing within sensitive groups."
   ]
  },
  {
   "cell_type": "code",
   "execution_count": null,
   "id": "f566d8c6",
   "metadata": {},
   "outputs": [
    {
     "name": "stdout",
     "output_type": "stream",
     "text": [
      "Epoch: 1: train Loss: 0.6931471805599458, Validation Loss: 0.693147180559946\n",
      "Epoch: 101: train Loss: 0.6673529360908859, Validation Loss: 0.6685693181796346\n",
      "Epoch: 201: train Loss: 0.6483959697189509, Validation Loss: 0.6505856815373137\n",
      "Epoch: 301: train Loss: 0.6336992864648207, Validation Loss: 0.6367398247915368\n",
      "Epoch: 401: train Loss: 0.6218699743842051, Validation Loss: 0.6256530938249385\n",
      "Epoch: 501: train Loss: 0.6120883119216647, Validation Loss: 0.616518356277738\n",
      "Epoch: 601: train Loss: 0.6038373437082905, Validation Loss: 0.6088304510240374\n",
      "Epoch: 701: train Loss: 0.5967705096023987, Validation Loss: 0.6022537287893791\n",
      "Epoch: 801: train Loss: 0.5906438379335539, Validation Loss: 0.5965540505864487\n",
      "Epoch: 901: train Loss: 0.5852789513463755, Validation Loss: 0.5915617063271202\n",
      "Epoch: 1001: train Loss: 0.5805415358062638, Validation Loss: 0.5871499046681544\n",
      "Epoch: 1101: train Loss: 0.5763280571288989, Validation Loss: 0.5832215765701625\n",
      "Epoch: 1201: train Loss: 0.5725571552596952, Validation Loss: 0.5797008864477557\n",
      "Epoch: 1301: train Loss: 0.5691638448840053, Validation Loss: 0.5765275562958974\n",
      "Epoch: 1401: train Loss: 0.5660954825373747, Validation Loss: 0.5736529503559246\n",
      "Train end\n"
     ]
    },
    {
     "data": {
      "image/png": "[encoded data removed]",
      "text/plain": [
       "<Figure size 640x480 with 1 Axes>"
      ]
     },
     "metadata": {},
     "output_type": "display_data"
    }
   ],
   "source": [
    "# Balance the data and then refeed the new mitigated X and Y into the logisitc regression model to retrain\n",
    "from sklearn.utils import resample\n",
    "\n",
    "def balance_data(X_train, y_train, sensitive_column):\n",
    "    train_data = pd.concat([X_train, y_train], axis=1)\n",
    "\n",
    "    balanced_data = []\n",
    "    for group in train_data[sensitive_column].unique():\n",
    "        group_data = train_data[train_data[sensitive_column] == group]\n",
    "        class_0 = group_data[group_data['income'] == 0]\n",
    "        class_1 = group_data[group_data['income'] == 1]\n",
    "\n",
    "        min_size = min(len(class_0), len(class_1))\n",
    "        balanced_group = pd.concat([\n",
    "            resample(class_0, replace=True, n_samples=min_size, random_state=42),\n",
    "            resample(class_1, replace=True, n_samples=min_size, random_state=42)\n",
    "        ])\n",
    "        balanced_data.append(balanced_group)\n",
    "\n",
    "    balanced_data = pd.concat(balanced_data)\n",
    "    return balanced_data.drop('income', axis=1), balanced_data['income']\n",
    "\n",
    "X_train_mitigated, y_train_mitigated = balance_data(X_train, y_train, 'race')\n",
    "lr.set_input(X_train_mitigated)\n",
    "lr.set_target(y_train_mitigated)\n",
    "\n",
    "lr.train()\n"
   ]
  },
  {
   "cell_type": "code",
   "execution_count": null,
   "id": "0536b9fc",
   "metadata": {},
   "outputs": [
    {
     "name": "stdout",
     "output_type": "stream",
     "text": [
      "Accuracy: 0.7053018372703412\n",
      "Race Amer-Indian-Eskimo: TPR = 0.78\n",
      "Race Asian-Pac-Islander: TPR = 0.77\n",
      "Race White: TPR = 0.93\n",
      "Race Black: TPR = 0.73\n",
      "Race Other: TPR = 0.67\n"
     ]
    }
   ],
   "source": [
    "# Then gather the new predicted y values and remeasure the Bias \n",
    "y_pred_mitigated = lr.evaluate(X_test, y_test)\n",
    "measure_race_bias(y_pred_mitigated, y_test, X_test)"
   ]
  },
  {
   "cell_type": "markdown",
   "id": "327927b6",
   "metadata": {},
   "source": [
    "## Random Forest Classifier\n",
    "train and test three different models with the following parameters:\n",
    "1. forest_size = 100, max_tree_depth = 7\n",
    "2. forest_size = 100, max_tree_depth = 10\n",
    "3. forest_size = 200, max_tree_depth = 7\n",
    "\n",
    "### Validated using KFold Cross Validation"
   ]
  },
  {
   "cell_type": "code",
   "execution_count": 92,
   "id": "ae7c6bf688b403d",
   "metadata": {
    "ExecuteTime": {
     "end_time": "2024-12-04T03:16:49.781779Z",
     "start_time": "2024-12-04T03:16:47.163367Z"
    }
   },
   "outputs": [
    {
     "name": "stdout",
     "output_type": "stream",
     "text": [
      "The autoreload extension is already loaded. To reload it, use:\n",
      "  %reload_ext autoreload\n",
      "Performing KFold Cross Validation on Random Forest Classifier...\n",
      "fitting model...\n",
      "aggregated predictions for  0  samples.\n",
      "aggregated predictions for  3000  samples.\n",
      "aggregated predictions for  6000  samples.\n",
      "aggregated predictions for  9000  samples.\n",
      "fitting model...\n",
      "aggregated predictions for  0  samples.\n",
      "aggregated predictions for  3000  samples.\n",
      "aggregated predictions for  6000  samples.\n",
      "aggregated predictions for  9000  samples.\n",
      "fitting model...\n",
      "aggregated predictions for  0  samples.\n",
      "aggregated predictions for  3000  samples.\n",
      "aggregated predictions for  6000  samples.\n",
      "aggregated predictions for  9000  samples.\n",
      "fitting model...\n",
      "aggregated predictions for  0  samples.\n",
      "aggregated predictions for  3000  samples.\n",
      "aggregated predictions for  6000  samples.\n",
      "aggregated predictions for  9000  samples.\n",
      "fitting model...\n",
      "aggregated predictions for  0  samples.\n",
      "aggregated predictions for  3000  samples.\n",
      "aggregated predictions for  6000  samples.\n",
      "aggregated predictions for  9000  samples.\n",
      "Average accuracy score across 5 folds: 0.8513\n",
      "Average entropy loss across 5 folds: 0.34693931190477223\n"
     ]
    }
   ],
   "source": [
    "%load_ext autoreload\n",
    "%autoreload 2\n",
    "\n",
    "#Random Forest Classifier 1\n",
    "\n",
    "from model.random_forest import random_forest\n",
    "from sklearn.model_selection import KFold\n",
    "\n",
    "print(\"Performing KFold Cross Validation on Random Forest Classifier...\")\n",
    "\n",
    "K = 5\n",
    "\n",
    "# Initialize KFold object\n",
    "kf = KFold(n_splits=K, shuffle=True, random_state=42)\n",
    "\n",
    "# Store cross-validation scores\n",
    "cv_scores = []\n",
    "entropy_losses = []\n",
    "\n",
    "X_npy = X.values\n",
    "y_npy = y.values\n",
    "\n",
    "\n",
    "# Iterate through the K folds\n",
    "for train_index, val_index in kf.split(X_npy):\n",
    "    X_train, X_val = X_npy[train_index], X_npy[val_index]\n",
    "    y_train, y_val = y_npy[train_index], y_npy[val_index]\n",
    "    \n",
    "    # Initialize RF Classifier\n",
    "    rf = random_forest(forest_size=100, max_tree_depth=7)\n",
    "    \n",
    "    # Train the model\n",
    "    rf.fit(X_train, y_train)\n",
    "    \n",
    "    # Predict on the validation set\n",
    "    y_pred, y_pred_probabilities = rf.predict(X_test.values)\n",
    "    \n",
    "    accuracy_score, entropy_loss = rf.evaluate(y_test_preprocessed, y_pred, y_pred_probabilities)\n",
    "    \n",
    "    # Append the score to the list\n",
    "    cv_scores.append(accuracy_score)\n",
    "    entropy_losses.append(entropy_loss)\n",
    "\n",
    "# Compute the average score across all folds\n",
    "average_score = np.mean(cv_scores)\n",
    "average_loss = np.mean(entropy_losses)\n",
    "\n",
    "print(f'Average accuracy score across {K} folds: {average_score:.4f}')\n",
    "\n",
    "print(f\"Average entropy loss across {K} folds: {average_loss}\")\n",
    "\n"
   ]
  },
  {
   "cell_type": "code",
   "execution_count": 95,
   "id": "6277e063",
   "metadata": {},
   "outputs": [
    {
     "name": "stdout",
     "output_type": "stream",
     "text": [
      "The autoreload extension is already loaded. To reload it, use:\n",
      "  %reload_ext autoreload\n",
      "Performing KFold Cross Validation on Random Forest Classifier...\n",
      "fitting model...\n",
      "aggregated predictions for  0  samples.\n",
      "aggregated predictions for  3000  samples.\n",
      "aggregated predictions for  6000  samples.\n",
      "aggregated predictions for  9000  samples.\n"
     ]
    },
    {
     "ename": "TypeError",
     "evalue": "random_forest.evaluate() takes 3 positional arguments but 4 were given",
     "output_type": "error",
     "traceback": [
      "\u001b[0;31m---------------------------------------------------------------------------\u001b[0m",
      "\u001b[0;31mTypeError\u001b[0m                                 Traceback (most recent call last)",
      "Cell \u001b[0;32mIn[95], line 38\u001b[0m\n\u001b[1;32m     35\u001b[0m \u001b[38;5;66;03m# Predict on the validation set\u001b[39;00m\n\u001b[1;32m     36\u001b[0m y_pred, y_pred_probabilities \u001b[38;5;241m=\u001b[39m rf\u001b[38;5;241m.\u001b[39mpredict(X_test\u001b[38;5;241m.\u001b[39mvalues)\n\u001b[0;32m---> 38\u001b[0m accuracy_score, entropy_loss \u001b[38;5;241m=\u001b[39m \u001b[43mrf\u001b[49m\u001b[38;5;241;43m.\u001b[39;49m\u001b[43mevaluate\u001b[49m\u001b[43m(\u001b[49m\u001b[43my_test_preprocessed\u001b[49m\u001b[43m,\u001b[49m\u001b[43m \u001b[49m\u001b[43my_pred\u001b[49m\u001b[43m,\u001b[49m\u001b[43m \u001b[49m\u001b[43my_pred_probabilities\u001b[49m\u001b[43m)\u001b[49m\n\u001b[1;32m     40\u001b[0m \u001b[38;5;66;03m# Append the score to the list\u001b[39;00m\n\u001b[1;32m     41\u001b[0m cv_scores\u001b[38;5;241m.\u001b[39mappend(accuracy_score)\n",
      "\u001b[0;31mTypeError\u001b[0m: random_forest.evaluate() takes 3 positional arguments but 4 were given"
     ]
    }
   ],
   "source": [
    "%load_ext autoreload\n",
    "%autoreload 2\n",
    "\n",
    "#Random Forest Classifier 1\n",
    "\n",
    "from model.random_forest import random_forest\n",
    "from sklearn.model_selection import KFold\n",
    "\n",
    "print(\"Performing KFold Cross Validation on Random Forest Classifier...\")\n",
    "\n",
    "K = 5\n",
    "\n",
    "# Initialize KFold object\n",
    "kf = KFold(n_splits=K, shuffle=True, random_state=42)\n",
    "\n",
    "# Store cross-validation scores\n",
    "cv_scores = []\n",
    "entropy_losses = []\n",
    "\n",
    "X_npy = X.values\n",
    "y_npy = y.values\n",
    "\n",
    "\n",
    "# Iterate through the K folds\n",
    "for train_index, val_index in kf.split(X_npy):\n",
    "    X_train, X_val = X_npy[train_index], X_npy[val_index]\n",
    "    y_train, y_val = y_npy[train_index], y_npy[val_index]\n",
    "    \n",
    "    # Initialize RF Classifier\n",
    "    rf = random_forest(forest_size=100, max_tree_depth=10)\n",
    "    \n",
    "    # Train the model\n",
    "    rf.fit(X_train, y_train)\n",
    "    \n",
    "    # Predict on the validation set\n",
    "    y_pred, y_pred_probabilities = rf.predict(X_test.values)\n",
    "    \n",
    "    accuracy_score, entropy_loss = rf.evaluate(y_test_preprocessed, y_pred, y_pred_probabilities)\n",
    "    \n",
    "    # Append the score to the list\n",
    "    cv_scores.append(accuracy_score)\n",
    "    entropy_losses.append(entropy_loss)\n",
    "\n",
    "# Compute the average score across all folds\n",
    "average_score = np.mean(cv_scores)\n",
    "average_loss = np.mean(entropy_losses)\n",
    "\n",
    "print(f'Average accuracy score across {K} folds: {average_score:.4f}')\n",
    "\n",
    "print(f\"Average entropy loss across {K} folds: {average_loss}\")\n",
    "\n"
   ]
  },
  {
   "cell_type": "code",
   "execution_count": null,
   "id": "e507bc5b",
   "metadata": {},
   "outputs": [
    {
     "name": "stdout",
     "output_type": "stream",
     "text": [
      "The autoreload extension is already loaded. To reload it, use:\n",
      "  %reload_ext autoreload\n",
      "Performing KFold Cross Validation on Random Forest Classifier...\n",
      "fitting model...\n",
      "aggregated predictions for  0  samples.\n",
      "aggregated predictions for  3000  samples.\n",
      "aggregated predictions for  6000  samples.\n",
      "aggregated predictions for  9000  samples.\n",
      "fitting model...\n",
      "aggregated predictions for  0  samples.\n",
      "aggregated predictions for  3000  samples.\n",
      "aggregated predictions for  6000  samples.\n",
      "aggregated predictions for  9000  samples.\n",
      "fitting model...\n",
      "aggregated predictions for  0  samples.\n",
      "aggregated predictions for  3000  samples.\n",
      "aggregated predictions for  6000  samples.\n",
      "aggregated predictions for  9000  samples.\n",
      "fitting model...\n",
      "aggregated predictions for  0  samples.\n",
      "aggregated predictions for  3000  samples.\n",
      "aggregated predictions for  6000  samples.\n",
      "aggregated predictions for  9000  samples.\n",
      "fitting model...\n",
      "aggregated predictions for  0  samples.\n",
      "aggregated predictions for  3000  samples.\n",
      "aggregated predictions for  6000  samples.\n",
      "aggregated predictions for  9000  samples.\n",
      "Average accuracy score across 5 folds: 0.8577\n",
      "Average entropy loss across 5 folds: 0.43427304445755616\n"
     ]
    }
   ],
   "source": [
    "%load_ext autoreload\n",
    "%autoreload 2\n",
    "\n",
    "#Random Forest Classifier 2\n",
    "\n",
    "from model.random_forest import random_forest\n",
    "from sklearn.model_selection import KFold\n",
    "\n",
    "print(\"Performing KFold Cross Validation on Random Forest Classifier...\")\n",
    "\n",
    "K = 5\n",
    "\n",
    "# Initialize KFold object\n",
    "kf = KFold(n_splits=K, shuffle=True, random_state=42)\n",
    "\n",
    "# Store cross-validation scores\n",
    "cv_scores = []\n",
    "entropy_losses = []\n",
    "\n",
    "X_npy = X.values\n",
    "y_npy = y.values\n",
    "\n",
    "\n",
    "# Iterate through the K folds\n",
    "for train_index, val_index in kf.split(X_npy):\n",
    "    X_train, X_val = X_npy[train_index], X_npy[val_index]\n",
    "    y_train, y_val = y_npy[train_index], y_npy[val_index]\n",
    "    \n",
    "    # Initialize RF Classifier\n",
    "    rf = random_forest(forest_size=200, max_tree_depth=10)\n",
    "    \n",
    "    # Train the model\n",
    "    rf.fit(X_train, y_train)\n",
    "    \n",
    "    # Predict on the validation set\n",
    "    y_pred, y_pred_probabilities = rf.predict(X_test.values)\n",
    "    \n",
    "    accuracy_score, entropy_loss = rf.evaluate(y_test_preprocessed, y_pred, y_pred_probabilities)\n",
    "    \n",
    "    # Append the score to the list\n",
    "    cv_scores.append(accuracy_score)\n",
    "    entropy_losses.append(entropy_loss)\n",
    "\n",
    "# Compute the average score across all folds\n",
    "average_score = np.mean(cv_scores)\n",
    "average_loss = np.mean(entropy_losses)\n",
    "\n",
    "print(f'Average accuracy score across {K} folds: {average_score:.4f}')\n",
    "\n",
    "print(f\"Average entropy loss across {K} folds: {average_loss}\")\n",
    "\n"
   ]
  }
 ],
 "metadata": {
  "kernelspec": {
   "display_name": "Python 3",
   "language": "python",
   "name": "python3"
  },
  "language_info": {
   "codemirror_mode": {
    "name": "ipython",
    "version": 3
   },
   "file_extension": ".py",
   "mimetype": "text/x-python",
   "name": "python",
   "nbconvert_exporter": "python",
   "pygments_lexer": "ipython3",
   "version": "3.11.5"
  }
 },
 "nbformat": 4,
 "nbformat_minor": 5
}
