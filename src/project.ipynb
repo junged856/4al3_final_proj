{
 "cells": [
  {
   "cell_type": "code",
   "execution_count": 8,
   "id": "initial_id",
   "metadata": {
    "ExecuteTime": {
     "end_time": "2024-12-04T03:15:16.467474Z",
     "start_time": "2024-12-04T03:15:16.464857Z"
    },
    "collapsed": true
   },
   "outputs": [],
   "source": [
    "# from twisted.conch.scripts.tkconch import frame\n",
    "from ucimlrepo import fetch_ucirepo \n",
    "import ssl\n",
    "\n",
    "import pandas as pd\n",
    "import matplotlib.pyplot as plt\n",
    "import seaborn as sns\n",
    "import numpy as np"
   ]
  },
  {
   "cell_type": "code",
   "execution_count": 10,
   "id": "99cb3a97",
   "metadata": {},
   "outputs": [],
   "source": [
    "# giving an SSLCertVerificationError when trying to fetch UCI repo\n",
    "ssl._create_default_https_context = ssl._create_unverified_context"
   ]
  },
  {
   "cell_type": "code",
   "execution_count": null,
   "id": "dac36328",
   "metadata": {},
   "outputs": [],
   "source": []
  },
  {
   "cell_type": "markdown",
   "id": "185308e5",
   "metadata": {},
   "source": [
    "# Data Preprocessing\n",
    "For milestone 2, we are completing all data preprocessing operations including fetching the data, dropping unnecessary columns, encoding categorical data and normalizing continous columns. Finally, we will be splitting the data into train, test and validation sets using a 80/20 split between test and training data, and 70/30 split between split training data and a validation set (because the data set is so large we can afford to do this)."
   ]
  },
  {
   "cell_type": "code",
   "execution_count": 11,
   "id": "797b9a8dc486d133",
   "metadata": {
    "ExecuteTime": {
     "end_time": "2024-12-04T03:15:19.353072Z",
     "start_time": "2024-12-04T03:15:16.477593Z"
    }
   },
   "outputs": [
    {
     "name": "stdout",
     "output_type": "stream",
     "text": [
      "before drop missing values:  (48842, 14)\n",
      "after drop missing values:  (47621, 14)\n"
     ]
    }
   ],
   "source": [
    "# fetch dataset \n",
    "adult = fetch_ucirepo(id=2) \n",
    "  \n",
    "features = pd.DataFrame(adult.data.features)\n",
    "target = pd.DataFrame(adult.data.targets)\n",
    "\n",
    "\n",
    "#drop the education column as it is already represented in the education_num column\n",
    "features = features.drop(columns=['education'])\n",
    "data = pd.concat([features, target], axis=1)\n",
    "\n",
    "print(\"before drop missing values: \", data.shape)\n",
    "# drop missing values\n",
    "data = data.dropna()\n",
    "\n",
    "print(\"after drop missing values: \", data.shape)\n"
   ]
  },
  {
   "cell_type": "code",
   "execution_count": 12,
   "id": "95b7681869b288be",
   "metadata": {
    "ExecuteTime": {
     "end_time": "2024-12-04T03:15:19.386132Z",
     "start_time": "2024-12-04T03:15:19.372890Z"
    }
   },
   "outputs": [],
   "source": [
    "# print(data['workclass'].value_counts())\n",
    "# print(data['marital-status'].value_counts())\n",
    "# print(data['occupation'].value_counts())\n",
    "# print(data['relationship'].value_counts())\n",
    "# print(data['race'].value_counts())\n",
    "# print(data['sex'].value_counts())\n",
    "# print(data['native-country'].value_counts())\n",
    "# print(data['income'].value_counts())\n",
    "\n",
    "before = {'workclass': data['workclass'].unique(),\n",
    "          'marital-status': data['marital-status'].unique(),\n",
    "          'occupation': data['occupation'].unique(),\n",
    "          'relationship': data['relationship'].unique(),\n",
    "          'race': data['race'].unique(),\n",
    "          'native-country': data['native-country'].unique(),\n",
    "          'income': data['income'].unique()\n",
    "          }"
   ]
  },
  {
   "cell_type": "code",
   "execution_count": 116,
   "id": "6fbaa8827560bc06",
   "metadata": {
    "ExecuteTime": {
     "end_time": "2024-12-04T03:15:19.408537Z",
     "start_time": "2024-12-04T03:15:19.406323Z"
    }
   },
   "outputs": [],
   "source": [
    "# print(data['workclass'].value_counts())\n",
    "# \n",
    "# print(data['marital-status'].value_counts())\n",
    "# print(data['occupation'].value_counts())\n",
    "# print(data['relationship'].value_counts())\n",
    "# print(data['race'].value_counts())\n",
    "# print(data['sex'].value_counts())\n",
    "# print(data['native-country'].value_counts())\n",
    "# print(data['income'].value_counts())"
   ]
  },
  {
   "cell_type": "markdown",
   "id": "a6cdcb59f2bfb6b3",
   "metadata": {},
   "source": [
    "## Categorical Data Preprocessing\n",
    "using LabelEncoder to convert categorical data to numerical data"
   ]
  },
  {
   "cell_type": "code",
   "execution_count": 13,
   "id": "9d3ed6bd5c223b39",
   "metadata": {
    "ExecuteTime": {
     "end_time": "2024-12-04T03:15:19.459249Z",
     "start_time": "2024-12-04T03:15:19.429402Z"
    }
   },
   "outputs": [
    {
     "data": {
      "text/html": [
       "<div>\n",
       "<style scoped>\n",
       "    .dataframe tbody tr th:only-of-type {\n",
       "        vertical-align: middle;\n",
       "    }\n",
       "\n",
       "    .dataframe tbody tr th {\n",
       "        vertical-align: top;\n",
       "    }\n",
       "\n",
       "    .dataframe thead th {\n",
       "        text-align: right;\n",
       "    }\n",
       "</style>\n",
       "<table border=\"1\" class=\"dataframe\">\n",
       "  <thead>\n",
       "    <tr style=\"text-align: right;\">\n",
       "      <th></th>\n",
       "      <th>age</th>\n",
       "      <th>workclass</th>\n",
       "      <th>fnlwgt</th>\n",
       "      <th>education-num</th>\n",
       "      <th>marital-status</th>\n",
       "      <th>occupation</th>\n",
       "      <th>relationship</th>\n",
       "      <th>race</th>\n",
       "      <th>sex</th>\n",
       "      <th>capital-gain</th>\n",
       "      <th>capital-loss</th>\n",
       "      <th>hours-per-week</th>\n",
       "      <th>native-country</th>\n",
       "      <th>income</th>\n",
       "    </tr>\n",
       "  </thead>\n",
       "  <tbody>\n",
       "    <tr>\n",
       "      <th>0</th>\n",
       "      <td>39</td>\n",
       "      <td>7</td>\n",
       "      <td>77516</td>\n",
       "      <td>13</td>\n",
       "      <td>4</td>\n",
       "      <td>1</td>\n",
       "      <td>1</td>\n",
       "      <td>4</td>\n",
       "      <td>Male</td>\n",
       "      <td>2174</td>\n",
       "      <td>0</td>\n",
       "      <td>40</td>\n",
       "      <td>39</td>\n",
       "      <td>&lt;=50K</td>\n",
       "    </tr>\n",
       "    <tr>\n",
       "      <th>1</th>\n",
       "      <td>50</td>\n",
       "      <td>6</td>\n",
       "      <td>83311</td>\n",
       "      <td>13</td>\n",
       "      <td>2</td>\n",
       "      <td>4</td>\n",
       "      <td>0</td>\n",
       "      <td>4</td>\n",
       "      <td>Male</td>\n",
       "      <td>0</td>\n",
       "      <td>0</td>\n",
       "      <td>13</td>\n",
       "      <td>39</td>\n",
       "      <td>&lt;=50K</td>\n",
       "    </tr>\n",
       "    <tr>\n",
       "      <th>2</th>\n",
       "      <td>38</td>\n",
       "      <td>4</td>\n",
       "      <td>215646</td>\n",
       "      <td>9</td>\n",
       "      <td>0</td>\n",
       "      <td>6</td>\n",
       "      <td>1</td>\n",
       "      <td>4</td>\n",
       "      <td>Male</td>\n",
       "      <td>0</td>\n",
       "      <td>0</td>\n",
       "      <td>40</td>\n",
       "      <td>39</td>\n",
       "      <td>&lt;=50K</td>\n",
       "    </tr>\n",
       "    <tr>\n",
       "      <th>3</th>\n",
       "      <td>53</td>\n",
       "      <td>4</td>\n",
       "      <td>234721</td>\n",
       "      <td>7</td>\n",
       "      <td>2</td>\n",
       "      <td>6</td>\n",
       "      <td>0</td>\n",
       "      <td>2</td>\n",
       "      <td>Male</td>\n",
       "      <td>0</td>\n",
       "      <td>0</td>\n",
       "      <td>40</td>\n",
       "      <td>39</td>\n",
       "      <td>&lt;=50K</td>\n",
       "    </tr>\n",
       "    <tr>\n",
       "      <th>4</th>\n",
       "      <td>28</td>\n",
       "      <td>4</td>\n",
       "      <td>338409</td>\n",
       "      <td>13</td>\n",
       "      <td>2</td>\n",
       "      <td>10</td>\n",
       "      <td>5</td>\n",
       "      <td>2</td>\n",
       "      <td>Female</td>\n",
       "      <td>0</td>\n",
       "      <td>0</td>\n",
       "      <td>40</td>\n",
       "      <td>5</td>\n",
       "      <td>&lt;=50K</td>\n",
       "    </tr>\n",
       "  </tbody>\n",
       "</table>\n",
       "</div>"
      ],
      "text/plain": [
       "   age  workclass  fnlwgt  education-num  marital-status  occupation  \\\n",
       "0   39          7   77516             13               4           1   \n",
       "1   50          6   83311             13               2           4   \n",
       "2   38          4  215646              9               0           6   \n",
       "3   53          4  234721              7               2           6   \n",
       "4   28          4  338409             13               2          10   \n",
       "\n",
       "   relationship  race     sex  capital-gain  capital-loss  hours-per-week  \\\n",
       "0             1     4    Male          2174             0              40   \n",
       "1             0     4    Male             0             0              13   \n",
       "2             1     4    Male             0             0              40   \n",
       "3             0     2    Male             0             0              40   \n",
       "4             5     2  Female             0             0              40   \n",
       "\n",
       "   native-country income  \n",
       "0              39  <=50K  \n",
       "1              39  <=50K  \n",
       "2              39  <=50K  \n",
       "3              39  <=50K  \n",
       "4               5  <=50K  "
      ]
     },
     "execution_count": 13,
     "metadata": {},
     "output_type": "execute_result"
    }
   ],
   "source": [
    "cate_colname = ['workclass', 'marital-status', 'occupation', 'relationship', 'native-country','race']\n",
    "\n",
    "from sklearn.preprocessing import LabelEncoder\n",
    "\n",
    "labelEncoder = LabelEncoder()\n",
    "\n",
    "for i in cate_colname:\n",
    "    data[i] = labelEncoder.fit_transform(data[i])\n",
    "data.head()\n"
   ]
  },
  {
   "cell_type": "code",
   "execution_count": 14,
   "id": "9291018eb0da06f5",
   "metadata": {
    "ExecuteTime": {
     "end_time": "2024-12-04T03:15:19.500987Z",
     "start_time": "2024-12-04T03:15:19.495229Z"
    }
   },
   "outputs": [],
   "source": [
    "after = {'workclass': data['workclass'].unique(),\n",
    "          'marital-status': data['marital-status'].unique(),\n",
    "          'occupation': data['occupation'].unique(),\n",
    "          'relationship': data['relationship'].unique(),\n",
    "          'race': data['race'].unique(),\n",
    "          'native-country': data['native-country'].unique(),\n",
    "          'income': data['income'].unique()\n",
    "          }"
   ]
  },
  {
   "cell_type": "code",
   "execution_count": 15,
   "id": "5df4b409366b454f",
   "metadata": {
    "ExecuteTime": {
     "end_time": "2024-12-04T03:15:19.529682Z",
     "start_time": "2024-12-04T03:15:19.526619Z"
    }
   },
   "outputs": [
    {
     "name": "stdout",
     "output_type": "stream",
     "text": [
      "col_name: workclass before: 9 after: 9\n",
      "col_name: marital-status before: 7 after: 7\n",
      "col_name: occupation before: 15 after: 15\n",
      "col_name: relationship before: 6 after: 6\n",
      "col_name: race before: 5 after: 5\n",
      "col_name: native-country before: 42 after: 42\n",
      "col_name: income before: 4 after: 4\n"
     ]
    }
   ],
   "source": [
    "# check before and after by comparing the unique values\n",
    "for i in before.keys():\n",
    "    print(f\"col_name: {i} before: {len(before[i])} after: {len(after[i])}\")"
   ]
  },
  {
   "cell_type": "markdown",
   "id": "fa3c7f84f38b95c1",
   "metadata": {},
   "source": [
    "## Handling binary data\n",
    "\n",
    "male is 0 \n",
    "female is 1\n",
    "\n",
    "income less then 50k is 0\n",
    "income greater then 50k is 1"
   ]
  },
  {
   "cell_type": "code",
   "execution_count": 16,
   "id": "a78f280e58fb62e0",
   "metadata": {
    "ExecuteTime": {
     "end_time": "2024-12-04T03:15:19.586514Z",
     "start_time": "2024-12-04T03:15:19.559687Z"
    }
   },
   "outputs": [
    {
     "name": "stderr",
     "output_type": "stream",
     "text": [
      "/var/folders/45/b_y3zsxs1g35byl6x6d4f9hw0000gn/T/ipykernel_57471/1168086075.py:14: FutureWarning: Downcasting behavior in `replace` is deprecated and will be removed in a future version. To retain the old behavior, explicitly call `result.infer_objects(copy=False)`. To opt-in to the future behavior, set `pd.set_option('future.no_silent_downcasting', True)`\n",
      "  data['sex'] = data['sex'].replace(sex_map)\n",
      "/var/folders/45/b_y3zsxs1g35byl6x6d4f9hw0000gn/T/ipykernel_57471/1168086075.py:15: FutureWarning: Downcasting behavior in `replace` is deprecated and will be removed in a future version. To retain the old behavior, explicitly call `result.infer_objects(copy=False)`. To opt-in to the future behavior, set `pd.set_option('future.no_silent_downcasting', True)`\n",
      "  data['income'] = data['income'].replace(income_map)\n"
     ]
    }
   ],
   "source": [
    "sex_map = {\n",
    "    'Male': 0,\n",
    "    'Female': 1\n",
    "}\n",
    "\n",
    "income_map = {\n",
    "    '<=50K': 0,\n",
    "    '>50K': 1,\n",
    "    '<=50K.': 0,\n",
    "    '>50K.': 1\n",
    "}\n",
    "\n",
    "# replace the values in the column\n",
    "data['sex'] = data['sex'].replace(sex_map)\n",
    "data['income'] = data['income'].replace(income_map)\n"
   ]
  },
  {
   "cell_type": "code",
   "execution_count": 17,
   "id": "8e7d7712fa7cd030",
   "metadata": {
    "ExecuteTime": {
     "end_time": "2024-12-04T03:15:19.613641Z",
     "start_time": "2024-12-04T03:15:19.605118Z"
    }
   },
   "outputs": [],
   "source": [
    "continues_colname = ['age', 'fnlwgt', 'capital-gain', 'capital-loss', 'hours-per-week']\n",
    "\n",
    "from sklearn.preprocessing import StandardScaler\n",
    "\n",
    "#normalize the continues data\n",
    "scaler = StandardScaler()\n",
    "data[continues_colname] = scaler.fit_transform(data[continues_colname])"
   ]
  },
  {
   "cell_type": "markdown",
   "id": "d8299c34",
   "metadata": {},
   "source": [
    "## Splitting Data"
   ]
  },
  {
   "cell_type": "code",
   "execution_count": 20,
   "id": "1d91c1e4a206fa9c",
   "metadata": {
    "ExecuteTime": {
     "end_time": "2024-12-04T03:15:19.644629Z",
     "start_time": "2024-12-04T03:15:19.634968Z"
    }
   },
   "outputs": [],
   "source": [
    "#split the data into training and testing data\n",
    "from sklearn.model_selection import train_test_split\n",
    "\n",
    "X = data.drop(columns=['income'])\n",
    "y = data['income']\n",
    "\n",
    "X_train, X_test, y_train, y_test = train_test_split(X, y, test_size=0.2, random_state=42)\n",
    "\n"
   ]
  },
  {
   "cell_type": "code",
   "execution_count": 123,
   "id": "a6781282cf28ffce",
   "metadata": {
    "ExecuteTime": {
     "end_time": "2024-12-04T03:15:19.671204Z",
     "start_time": "2024-12-04T03:15:19.664840Z"
    }
   },
   "outputs": [
    {
     "data": {
      "text/html": [
       "<div>\n",
       "<style scoped>\n",
       "    .dataframe tbody tr th:only-of-type {\n",
       "        vertical-align: middle;\n",
       "    }\n",
       "\n",
       "    .dataframe tbody tr th {\n",
       "        vertical-align: top;\n",
       "    }\n",
       "\n",
       "    .dataframe thead th {\n",
       "        text-align: right;\n",
       "    }\n",
       "</style>\n",
       "<table border=\"1\" class=\"dataframe\">\n",
       "  <thead>\n",
       "    <tr style=\"text-align: right;\">\n",
       "      <th></th>\n",
       "      <th>age</th>\n",
       "      <th>workclass</th>\n",
       "      <th>fnlwgt</th>\n",
       "      <th>education-num</th>\n",
       "      <th>marital-status</th>\n",
       "      <th>occupation</th>\n",
       "      <th>relationship</th>\n",
       "      <th>race</th>\n",
       "      <th>sex</th>\n",
       "      <th>capital-gain</th>\n",
       "      <th>capital-loss</th>\n",
       "      <th>hours-per-week</th>\n",
       "      <th>native-country</th>\n",
       "      <th>income</th>\n",
       "    </tr>\n",
       "  </thead>\n",
       "  <tbody>\n",
       "    <tr>\n",
       "      <th>0</th>\n",
       "      <td>0.026501</td>\n",
       "      <td>7</td>\n",
       "      <td>-1.062924</td>\n",
       "      <td>13</td>\n",
       "      <td>4</td>\n",
       "      <td>1</td>\n",
       "      <td>1</td>\n",
       "      <td>4</td>\n",
       "      <td>0</td>\n",
       "      <td>0.144629</td>\n",
       "      <td>-0.217456</td>\n",
       "      <td>-0.048943</td>\n",
       "      <td>39</td>\n",
       "      <td>0</td>\n",
       "    </tr>\n",
       "    <tr>\n",
       "      <th>1</th>\n",
       "      <td>0.837781</td>\n",
       "      <td>6</td>\n",
       "      <td>-1.008031</td>\n",
       "      <td>13</td>\n",
       "      <td>2</td>\n",
       "      <td>4</td>\n",
       "      <td>0</td>\n",
       "      <td>4</td>\n",
       "      <td>0</td>\n",
       "      <td>-0.145735</td>\n",
       "      <td>-0.217456</td>\n",
       "      <td>-2.251188</td>\n",
       "      <td>39</td>\n",
       "      <td>0</td>\n",
       "    </tr>\n",
       "    <tr>\n",
       "      <th>2</th>\n",
       "      <td>-0.047252</td>\n",
       "      <td>4</td>\n",
       "      <td>0.245517</td>\n",
       "      <td>9</td>\n",
       "      <td>0</td>\n",
       "      <td>6</td>\n",
       "      <td>1</td>\n",
       "      <td>4</td>\n",
       "      <td>0</td>\n",
       "      <td>-0.145735</td>\n",
       "      <td>-0.217456</td>\n",
       "      <td>-0.048943</td>\n",
       "      <td>39</td>\n",
       "      <td>0</td>\n",
       "    </tr>\n",
       "    <tr>\n",
       "      <th>3</th>\n",
       "      <td>1.059039</td>\n",
       "      <td>4</td>\n",
       "      <td>0.426206</td>\n",
       "      <td>7</td>\n",
       "      <td>2</td>\n",
       "      <td>6</td>\n",
       "      <td>0</td>\n",
       "      <td>2</td>\n",
       "      <td>0</td>\n",
       "      <td>-0.145735</td>\n",
       "      <td>-0.217456</td>\n",
       "      <td>-0.048943</td>\n",
       "      <td>39</td>\n",
       "      <td>0</td>\n",
       "    </tr>\n",
       "    <tr>\n",
       "      <th>4</th>\n",
       "      <td>-0.784780</td>\n",
       "      <td>4</td>\n",
       "      <td>1.408394</td>\n",
       "      <td>13</td>\n",
       "      <td>2</td>\n",
       "      <td>10</td>\n",
       "      <td>5</td>\n",
       "      <td>2</td>\n",
       "      <td>1</td>\n",
       "      <td>-0.145735</td>\n",
       "      <td>-0.217456</td>\n",
       "      <td>-0.048943</td>\n",
       "      <td>5</td>\n",
       "      <td>0</td>\n",
       "    </tr>\n",
       "  </tbody>\n",
       "</table>\n",
       "</div>"
      ],
      "text/plain": [
       "        age  workclass    fnlwgt  education-num  marital-status  occupation  \\\n",
       "0  0.026501          7 -1.062924             13               4           1   \n",
       "1  0.837781          6 -1.008031             13               2           4   \n",
       "2 -0.047252          4  0.245517              9               0           6   \n",
       "3  1.059039          4  0.426206              7               2           6   \n",
       "4 -0.784780          4  1.408394             13               2          10   \n",
       "\n",
       "   relationship  race  sex  capital-gain  capital-loss  hours-per-week  \\\n",
       "0             1     4    0      0.144629     -0.217456       -0.048943   \n",
       "1             0     4    0     -0.145735     -0.217456       -2.251188   \n",
       "2             1     4    0     -0.145735     -0.217456       -0.048943   \n",
       "3             0     2    0     -0.145735     -0.217456       -0.048943   \n",
       "4             5     2    1     -0.145735     -0.217456       -0.048943   \n",
       "\n",
       "   native-country  income  \n",
       "0              39       0  \n",
       "1              39       0  \n",
       "2              39       0  \n",
       "3              39       0  \n",
       "4               5       0  "
      ]
     },
     "execution_count": 123,
     "metadata": {},
     "output_type": "execute_result"
    }
   ],
   "source": [
    "data.head()"
   ]
  },
  {
   "cell_type": "code",
   "execution_count": 130,
   "id": "26d517e34ae490b2",
   "metadata": {
    "ExecuteTime": {
     "end_time": "2024-12-04T03:15:19.971384Z",
     "start_time": "2024-12-04T03:15:19.709835Z"
    }
   },
   "outputs": [],
   "source": [
    "import sys\n",
    "from pathlib import Path\n",
    "\n",
    "# Add the src directory to the system path\n",
    "src_path = Path('./src')  # Path to the src directory relative to your notebook\n",
    "sys.path.append(str(src_path.resolve()))"
   ]
  },
  {
   "cell_type": "code",
   "execution_count": 149,
   "id": "3ad64345",
   "metadata": {},
   "outputs": [
    {
     "name": "stdout",
     "output_type": "stream",
     "text": [
      "Training SVM...\n",
      "Epoch: 0, Training Loss: 29.3547, Validation Loss: 7.3353\n",
      "Epoch: 10, Training Loss: 27.6717, Validation Loss: 6.9081\n",
      "Epoch: 20, Training Loss: 27.6613, Validation Loss: 6.9054\n",
      "Epoch: 30, Training Loss: 27.6612, Validation Loss: 6.9054\n",
      "Stopping early at epoch: 30 due to model converging below threshold with loss: 6.905401716496955\n",
      "Epoch: 40, Training Loss: 27.6612, Validation Loss: 6.9054\n",
      "Epoch: 50, Training Loss: 27.6612, Validation Loss: 6.9054\n",
      "Epoch: 60, Training Loss: 27.6612, Validation Loss: 6.9054\n",
      "Epoch: 70, Training Loss: 27.6612, Validation Loss: 6.9054\n",
      "Epoch: 80, Training Loss: 27.6612, Validation Loss: 6.9054\n",
      "Epoch: 90, Training Loss: 27.6612, Validation Loss: 6.9054\n",
      "Training ended...\n"
     ]
    }
   ],
   "source": [
    "from model import svm\n",
    "import importlib\n",
    "importlib.reload(svm)\n",
    "\n",
    "from model.svm import svm_\n",
    "\n",
    "C = 0.001\n",
    "learning_rate = 0.0005\n",
    "epoch = 100\n",
    "\n",
    "\n",
    "my_svm = svm_(learning_rate=learning_rate,epoch=epoch,C_value=C,X=X_train,Y=y_train)\n",
    "# X_train_preprocess = X_train_preprocess.to_numpy()\n",
    "# Y_train_preprocess = Y_train_preprocess.to_numpy().reshape(-1, 1)\n",
    "\n",
    "# train model\n",
    "print(\"Training SVM...\")\n",
    "training_losses, validation_losses, early_stop = my_svm.mini_batch_gradient_descent(X_train, y_train, 30)"
   ]
  },
  {
   "cell_type": "code",
   "execution_count": 150,
   "id": "8ea51a87",
   "metadata": {},
   "outputs": [
    {
     "name": "stdout",
     "output_type": "stream",
     "text": [
      "Evaluating SVM...\n",
      "Accuracy on test dataset: 0.247244094488189\n",
      "Precision on test dataset: 0.6236220472440945\n",
      "Recall on test dataset: 0.5\n"
     ]
    },
    {
     "data": {
      "text/plain": [
       "(0.247244094488189, 0.6236220472440945, 0.5)"
      ]
     },
     "execution_count": 150,
     "metadata": {},
     "output_type": "execute_result"
    }
   ],
   "source": [
    "# testing the model\n",
    "print(\"Evaluating SVM...\")\n",
    "my_svm.predict(X_test,y_test)"
   ]
  },
  {
   "cell_type": "code",
   "execution_count": 125,
   "id": "28fe2de35bb58612",
   "metadata": {
    "ExecuteTime": {
     "end_time": "2024-12-04T03:16:10.247863Z",
     "start_time": "2024-12-04T03:16:09.953989Z"
    }
   },
   "outputs": [
    {
     "name": "stdout",
     "output_type": "stream",
     "text": [
      "Accuracy: 0.8224259816616505\n"
     ]
    }
   ],
   "source": [
    "# Logistic Regression with Regularization\n",
    "\n",
    "from sklearn.linear_model import LogisticRegression\n",
    "\n",
    "log_reg = LogisticRegression(max_iter=1000)\n",
    "\n",
    "log_reg.fit(X_train, y_train)\n",
    "\n",
    "y_pred = log_reg.predict(X_test)\n",
    "\n",
    "print(f\"Accuracy: {accuracy_score(y_test, y_pred)}\")"
   ]
  },
  {
   "cell_type": "code",
   "execution_count": 126,
   "id": "ae7c6bf688b403d",
   "metadata": {
    "ExecuteTime": {
     "end_time": "2024-12-04T03:16:49.781779Z",
     "start_time": "2024-12-04T03:16:47.163367Z"
    }
   },
   "outputs": [
    {
     "name": "stdout",
     "output_type": "stream",
     "text": [
      "Accuracy: 0.8521033107020368\n"
     ]
    }
   ],
   "source": [
    "#Random Forests\n",
    "\n",
    "from sklearn.ensemble import RandomForestClassifier\n",
    "\n",
    "rf = RandomForestClassifier(n_estimators=100)\n",
    "\n",
    "rf.fit(X_train, y_train)\n",
    "\n",
    "y_pred = rf.predict(X_test)\n",
    "\n",
    "print(f\"Accuracy: {accuracy_score(y_test, y_pred)}\")\n"
   ]
  }
 ],
 "metadata": {
  "kernelspec": {
   "display_name": "Python 3",
   "language": "python",
   "name": "python3"
  },
  "language_info": {
   "codemirror_mode": {
    "name": "ipython",
    "version": 3
   },
   "file_extension": ".py",
   "mimetype": "text/x-python",
   "name": "python",
   "nbconvert_exporter": "python",
   "pygments_lexer": "ipython3",
   "version": "3.11.5"
  }
 },
 "nbformat": 4,
 "nbformat_minor": 5
}
